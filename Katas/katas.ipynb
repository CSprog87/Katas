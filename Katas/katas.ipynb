{
 "cells": [
  {
   "cell_type": "code",
   "execution_count": 2,
   "metadata": {},
   "outputs": [],
   "source": [
    "# 7kyu \n",
    "import re\n",
    "def disemvowel(string_):\n",
    "    \"\"\"Recibe str y elimina las vocales sin tomar la Y como vocal\"\"\"\n",
    "    return \"\".join(re.findall('[^AaEeIiOoUu]', string_))"
   ]
  },
  {
   "cell_type": "code",
   "execution_count": 3,
   "metadata": {},
   "outputs": [
    {
     "data": {
      "text/plain": [
       "'tds ls vcls lmnds n st cdn y plbr: mrclg'"
      ]
     },
     "execution_count": 3,
     "metadata": {},
     "output_type": "execute_result"
    }
   ],
   "source": [
    "disemvowel(\"todas las vocales eliminadas en esta cadena y palabra: murcielago\")"
   ]
  },
  {
   "cell_type": "code",
   "execution_count": 29,
   "metadata": {},
   "outputs": [],
   "source": [
    "# 7kyu \n",
    "from string import capwords\n",
    "def capitalizewords(string):\n",
    "    \"\"\"Recibe str y pone en mayuscula la primera letra de todas las palabras de una cadena\n",
    "    salvando el error de la funcion str.title() que pone en mayuscula la letras que siguen a los signos de puntuacion\"\"\"\n",
    "    return capwords(string)"
   ]
  },
  {
   "cell_type": "code",
   "execution_count": 31,
   "metadata": {},
   "outputs": [
    {
     "data": {
      "text/plain": [
       "'Todas Las Palabras Inician Con Mayuscula'"
      ]
     },
     "execution_count": 31,
     "metadata": {},
     "output_type": "execute_result"
    }
   ],
   "source": [
    "capitalizewords(\"todas las palabras inician con mayuscula\")"
   ]
  },
  {
   "cell_type": "code",
   "execution_count": 28,
   "metadata": {},
   "outputs": [],
   "source": [
    "# 7kyu para devovler si un numero es un cuadrado perfecto (su raiz cuadrada es un numero entero) libreria math\n",
    "import math\n",
    "def is_square_1(n):\n",
    "    \"\"\"Devuelve boleano si un numero es un cuadrado perfecto usando la libereria math\"\"\"\n",
    "    return True if math.sqrt(n) % 1 == 0 else False\n",
    "\n",
    "def is_square(n):\n",
    "    \"\"\"Devuelve boleano si un numero es un cuadrado perfecto sin usar la libereria math\"\"\"\n",
    "    return n >= 0 and (n ** 0.5) % 1 == 0 \n"
   ]
  },
  {
   "cell_type": "code",
   "execution_count": 30,
   "metadata": {},
   "outputs": [
    {
     "data": {
      "text/plain": [
       "True"
      ]
     },
     "execution_count": 30,
     "metadata": {},
     "output_type": "execute_result"
    }
   ],
   "source": [
    "is_square(-2)"
   ]
  },
  {
   "cell_type": "code",
   "execution_count": 31,
   "metadata": {},
   "outputs": [],
   "source": [
    "#funcion 7kyu para devovler si una cadena termina con otra cadena\n",
    "def solution(text, ending):\n",
    "    \"\"\"Recibe dos argumentos y verifica si un str termina con otro str\"\"\"\n",
    "    return text.endswith(ending)\n",
    "    "
   ]
  },
  {
   "cell_type": "code",
   "execution_count": 34,
   "metadata": {},
   "outputs": [
    {
     "data": {
      "text/plain": [
       "True"
      ]
     },
     "execution_count": 34,
     "metadata": {},
     "output_type": "execute_result"
    }
   ],
   "source": [
    "solution(\"Prueba\", \"eba\")\n"
   ]
  },
  {
   "cell_type": "code",
   "execution_count": 65,
   "metadata": {},
   "outputs": [],
   "source": [
    "#Funcion 7kyu para filtrar numeros de una lista con diferentes tipos de objetos\n",
    "def Filter_list(l):\n",
    "    \"\"\"Recibe una lista con diferentes tipos de datos y filtra los interger\"\"\"\n",
    "    return print(list(filter(lambda objeto: type(objeto) == int ,l)))"
   ]
  },
  {
   "cell_type": "code",
   "execution_count": 67,
   "metadata": {},
   "outputs": [
    {
     "name": "stdout",
     "output_type": "stream",
     "text": [
      "[1, 2]\n"
     ]
    }
   ],
   "source": [
    "l = [1,2,'a','b']\n",
    "Filter_list(l)"
   ]
  },
  {
   "cell_type": "code",
   "execution_count": 92,
   "metadata": {},
   "outputs": [],
   "source": [
    "#Funcion 6kyu para contar los caracteres repetidos de una cadena\n",
    "def duplicate_count(text):\n",
    "    \"\"\"Recibe str y cuenta los caracteres repetidos\"\"\"\n",
    "    return len(set(letra for letra in text.lower() if text.lower().count(letra) > 1))"
   ]
  },
  {
   "cell_type": "code",
   "execution_count": 93,
   "metadata": {},
   "outputs": [
    {
     "data": {
      "text/plain": [
       "27"
      ]
     },
     "execution_count": 93,
     "metadata": {},
     "output_type": "execute_result"
    }
   ],
   "source": [
    "duplicate_count(\"YPH7FejBYaIOg7d108uQdMFcTZ1bcqojbLJsFkR7p4aa7qWt31bCHRiVreAGPTzIUVAwdsMuliCQJoSUhysV5MnF57vBKbqaQl\")\n"
   ]
  },
  {
   "cell_type": "code",
   "execution_count": null,
   "metadata": {},
   "outputs": [],
   "source": []
  }
 ],
 "metadata": {
  "kernelspec": {
   "display_name": "Python 3",
   "language": "python",
   "name": "python3"
  },
  "language_info": {
   "codemirror_mode": {
    "name": "ipython",
    "version": 3
   },
   "file_extension": ".py",
   "mimetype": "text/x-python",
   "name": "python",
   "nbconvert_exporter": "python",
   "pygments_lexer": "ipython3",
   "version": "3.11.2"
  },
  "orig_nbformat": 4
 },
 "nbformat": 4,
 "nbformat_minor": 2
}
